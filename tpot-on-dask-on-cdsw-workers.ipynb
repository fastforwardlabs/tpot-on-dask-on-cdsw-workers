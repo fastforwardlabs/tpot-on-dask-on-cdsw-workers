{
 "cells": [
  {
   "cell_type": "markdown",
   "metadata": {},
   "source": [
    "# TPOT on Dask on CDSW Workers"
   ]
  },
  {
   "cell_type": "code",
   "execution_count": 1,
   "metadata": {},
   "outputs": [
    {
     "name": "stdout",
     "output_type": "stream",
     "text": [
      "Requirement already satisfied: dask[complete]==2021.1.1 in ./.local/lib/python3.6/site-packages (2021.1.1)\n",
      "Requirement already satisfied: dask-ml==1.8.0 in ./.local/lib/python3.6/site-packages (1.8.0)\n",
      "Requirement already satisfied: tpot==0.11.7 in ./.local/lib/python3.6/site-packages (0.11.7)\n",
      "Requirement already satisfied: pyyaml in ./.local/lib/python3.6/site-packages (from dask[complete]==2021.1.1) (5.4.1)\n",
      "Requirement already satisfied: partd>=0.3.10; extra == \"complete\" in ./.local/lib/python3.6/site-packages (from dask[complete]==2021.1.1) (1.1.0)\n",
      "Requirement already satisfied: pandas>=0.25.0; extra == \"complete\" in /usr/local/lib/python3.6/site-packages (from dask[complete]==2021.1.1) (0.25.1)\n",
      "Requirement already satisfied: fsspec>=0.6.0; extra == \"complete\" in ./.local/lib/python3.6/site-packages (from dask[complete]==2021.1.1) (0.8.5)\n",
      "Requirement already satisfied: bokeh!=2.0.0,>=1.0.0; extra == \"complete\" in ./.local/lib/python3.6/site-packages (from dask[complete]==2021.1.1) (2.2.3)\n",
      "Requirement already satisfied: numpy>=1.15.1; extra == \"complete\" in ./.local/lib/python3.6/site-packages (from dask[complete]==2021.1.1) (1.19.5)\n",
      "Requirement already satisfied: cloudpickle>=0.2.2; extra == \"complete\" in ./.local/lib/python3.6/site-packages (from dask[complete]==2021.1.1) (1.6.0)\n",
      "Requirement already satisfied: distributed>=2.0; extra == \"complete\" in ./.local/lib/python3.6/site-packages (from dask[complete]==2021.1.1) (2021.1.1)\n",
      "Requirement already satisfied: toolz>=0.8.2; extra == \"complete\" in ./.local/lib/python3.6/site-packages (from dask[complete]==2021.1.1) (0.11.1)\n",
      "Requirement already satisfied: scikit-learn>=0.23 in ./.local/lib/python3.6/site-packages (from dask-ml==1.8.0) (0.24.1)\n",
      "Requirement already satisfied: dask-glm>=0.2.0 in ./.local/lib/python3.6/site-packages (from dask-ml==1.8.0) (0.2.0)\n",
      "Requirement already satisfied: numba in ./.local/lib/python3.6/site-packages (from dask-ml==1.8.0) (0.52.0)\n",
      "Requirement already satisfied: multipledispatch>=0.4.9 in ./.local/lib/python3.6/site-packages (from dask-ml==1.8.0) (0.6.0)\n",
      "Requirement already satisfied: packaging in ./.local/lib/python3.6/site-packages (from dask-ml==1.8.0) (20.9)\n",
      "Requirement already satisfied: scipy in /usr/local/lib/python3.6/site-packages (from dask-ml==1.8.0) (1.3.3)\n",
      "Requirement already satisfied: stopit>=1.1.1 in ./.local/lib/python3.6/site-packages (from tpot==0.11.7) (1.1.2)\n",
      "Requirement already satisfied: deap>=1.2 in ./.local/lib/python3.6/site-packages (from tpot==0.11.7) (1.3.1)\n",
      "Requirement already satisfied: joblib>=0.13.2 in ./.local/lib/python3.6/site-packages (from tpot==0.11.7) (1.0.0)\n",
      "Requirement already satisfied: xgboost>=1.1.0 in ./.local/lib/python3.6/site-packages (from tpot==0.11.7) (1.3.3)\n",
      "Requirement already satisfied: tqdm>=4.36.1 in ./.local/lib/python3.6/site-packages (from tpot==0.11.7) (4.56.0)\n",
      "Requirement already satisfied: update-checker>=0.16 in ./.local/lib/python3.6/site-packages (from tpot==0.11.7) (0.18.0)\n",
      "Requirement already satisfied: locket in ./.local/lib/python3.6/site-packages (from partd>=0.3.10; extra == \"complete\"->dask[complete]==2021.1.1) (0.2.1)\n",
      "Requirement already satisfied: pytz>=2017.2 in /usr/local/lib/python3.6/site-packages (from pandas>=0.25.0; extra == \"complete\"->dask[complete]==2021.1.1) (2019.3)\n",
      "Requirement already satisfied: python-dateutil>=2.6.1 in /usr/local/lib/python3.6/site-packages (from pandas>=0.25.0; extra == \"complete\"->dask[complete]==2021.1.1) (2.8.1)\n",
      "Requirement already satisfied: Jinja2>=2.7 in /usr/local/lib/python3.6/site-packages (from bokeh!=2.0.0,>=1.0.0; extra == \"complete\"->dask[complete]==2021.1.1) (2.10.3)\n",
      "Requirement already satisfied: typing-extensions>=3.7.4 in ./.local/lib/python3.6/site-packages (from bokeh!=2.0.0,>=1.0.0; extra == \"complete\"->dask[complete]==2021.1.1) (3.7.4.3)\n",
      "Requirement already satisfied: pillow>=7.1.0 in ./.local/lib/python3.6/site-packages (from bokeh!=2.0.0,>=1.0.0; extra == \"complete\"->dask[complete]==2021.1.1) (8.1.0)\n",
      "Requirement already satisfied: tornado>=5.1 in /usr/local/lib/python3.6/site-packages (from bokeh!=2.0.0,>=1.0.0; extra == \"complete\"->dask[complete]==2021.1.1) (6.0.3)\n",
      "Requirement already satisfied: psutil>=5.0 in ./.local/lib/python3.6/site-packages (from distributed>=2.0; extra == \"complete\"->dask[complete]==2021.1.1) (5.8.0)\n",
      "Requirement already satisfied: sortedcontainers!=2.0.0,!=2.0.1 in ./.local/lib/python3.6/site-packages (from distributed>=2.0; extra == \"complete\"->dask[complete]==2021.1.1) (2.3.0)\n",
      "Requirement already satisfied: contextvars; python_version < \"3.7\" in ./.local/lib/python3.6/site-packages (from distributed>=2.0; extra == \"complete\"->dask[complete]==2021.1.1) (2.4)\n",
      "Requirement already satisfied: tblib>=1.6.0 in ./.local/lib/python3.6/site-packages (from distributed>=2.0; extra == \"complete\"->dask[complete]==2021.1.1) (1.7.0)\n",
      "Requirement already satisfied: msgpack>=0.6.0 in ./.local/lib/python3.6/site-packages (from distributed>=2.0; extra == \"complete\"->dask[complete]==2021.1.1) (1.0.2)\n",
      "Requirement already satisfied: click>=6.6 in ./.local/lib/python3.6/site-packages (from distributed>=2.0; extra == \"complete\"->dask[complete]==2021.1.1) (7.1.2)\n",
      "Requirement already satisfied: zict>=0.1.3 in ./.local/lib/python3.6/site-packages (from distributed>=2.0; extra == \"complete\"->dask[complete]==2021.1.1) (2.0.0)\n",
      "Requirement already satisfied: setuptools in /usr/local/lib/python3.6/site-packages (from distributed>=2.0; extra == \"complete\"->dask[complete]==2021.1.1) (40.6.2)\n",
      "Requirement already satisfied: threadpoolctl>=2.0.0 in ./.local/lib/python3.6/site-packages (from scikit-learn>=0.23->dask-ml==1.8.0) (2.1.0)\n",
      "Requirement already satisfied: llvmlite<0.36,>=0.35.0 in ./.local/lib/python3.6/site-packages (from numba->dask-ml==1.8.0) (0.35.0)\n",
      "Requirement already satisfied: six in /usr/local/lib/python3.6/site-packages (from multipledispatch>=0.4.9->dask-ml==1.8.0) (1.13.0)\n",
      "Requirement already satisfied: pyparsing>=2.0.2 in /usr/local/lib/python3.6/site-packages (from packaging->dask-ml==1.8.0) (2.4.5)\n",
      "Requirement already satisfied: requests>=2.3.0 in /usr/local/lib/python3.6/site-packages (from update-checker>=0.16->tpot==0.11.7) (2.22.0)\n",
      "Requirement already satisfied: MarkupSafe>=0.23 in /usr/local/lib/python3.6/site-packages (from Jinja2>=2.7->bokeh!=2.0.0,>=1.0.0; extra == \"complete\"->dask[complete]==2021.1.1) (1.1.1)\n",
      "Requirement already satisfied: immutables>=0.9 in ./.local/lib/python3.6/site-packages (from contextvars; python_version < \"3.7\"->distributed>=2.0; extra == \"complete\"->dask[complete]==2021.1.1) (0.14)\n",
      "Requirement already satisfied: heapdict in ./.local/lib/python3.6/site-packages (from zict>=0.1.3->distributed>=2.0; extra == \"complete\"->dask[complete]==2021.1.1) (1.0.1)\n",
      "Requirement already satisfied: urllib3!=1.25.0,!=1.25.1,<1.26,>=1.21.1 in /usr/local/lib/python3.6/site-packages (from requests>=2.3.0->update-checker>=0.16->tpot==0.11.7) (1.25.7)\n",
      "Requirement already satisfied: idna<2.9,>=2.5 in /usr/local/lib/python3.6/site-packages (from requests>=2.3.0->update-checker>=0.16->tpot==0.11.7) (2.8)\n",
      "Requirement already satisfied: chardet<3.1.0,>=3.0.2 in /usr/local/lib/python3.6/site-packages (from requests>=2.3.0->update-checker>=0.16->tpot==0.11.7) (3.0.4)\n",
      "Requirement already satisfied: certifi>=2017.4.17 in /usr/local/lib/python3.6/site-packages (from requests>=2.3.0->update-checker>=0.16->tpot==0.11.7) (2019.11.28)\n",
      "\u001b[33mWARNING: You are using pip version 19.3.1; however, version 21.0.1 is available.\n",
      "You should consider upgrading via the 'pip install --upgrade pip' command.\u001b[0m\n"
     ]
    }
   ],
   "source": [
    "!pip3 install dask[complete]==2021.1.1 dask-ml==1.8.0 tpot==0.11.7"
   ]
  },
  {
   "cell_type": "code",
   "execution_count": 1,
   "metadata": {},
   "outputs": [
    {
     "name": "stderr",
     "output_type": "stream",
     "text": [
      "/home/cdsw/.local/lib/python3.6/site-packages/tpot/builtins/__init__.py:36: UserWarning: Warning: optional dependency `torch` is not available. - skipping import of NN models.\n",
      "  warnings.warn(\"Warning: optional dependency `torch` is not available. - skipping import of NN models.\")\n"
     ]
    }
   ],
   "source": [
    "import os\n",
    "import time\n",
    "\n",
    "import cdsw\n",
    "from dask.distributed import Client\n",
    "from sklearn.datasets import load_digits\n",
    "from sklearn.model_selection import train_test_split\n",
    "from tpot import TPOTClassifier"
   ]
  },
  {
   "cell_type": "code",
   "execution_count": 2,
   "metadata": {},
   "outputs": [],
   "source": [
    "os.makedirs(\"_scheduler_\", exist_ok=True)\n",
    "os.makedirs(\"_worker_\", exist_ok=True)"
   ]
  },
  {
   "cell_type": "markdown",
   "metadata": {},
   "source": [
    "## Start Dask scheduler"
   ]
  },
  {
   "cell_type": "code",
   "execution_count": 3,
   "metadata": {},
   "outputs": [],
   "source": [
    "dask_scheduler = cdsw.launch_workers(\n",
    "  n=1,\n",
    "  cpu=1,\n",
    "  memory=2,\n",
    "  kernel=\"python3\",\n",
    "  code=f\"!dask-scheduler --host 0.0.0.0 --dashboard-address 8080 --scheduler-file _scheduler_/dask.log\"\n",
    ")"
   ]
  },
  {
   "cell_type": "markdown",
   "metadata": {},
   "source": [
    "Wait for the scheduler to start."
   ]
  },
  {
   "cell_type": "code",
   "execution_count": 4,
   "metadata": {},
   "outputs": [],
   "source": [
    "time.sleep(10)"
   ]
  },
  {
   "cell_type": "markdown",
   "metadata": {},
   "source": [
    "Find the IP address of the scheduler."
   ]
  },
  {
   "cell_type": "code",
   "execution_count": 6,
   "metadata": {},
   "outputs": [
    {
     "data": {
      "text/plain": [
       "'tcp://100.66.176.11:8786'"
      ]
     },
     "execution_count": 6,
     "metadata": {},
     "output_type": "execute_result"
    }
   ],
   "source": [
    "scheduler_workers = cdsw.list_workers()\n",
    "scheduler_id = dask_scheduler[0]['id']\n",
    "scheduler_ip = [worker['ip_address'] for worker in scheduler_workers\n",
    "                if worker['id'] == scheduler_id][0]\n",
    "\n",
    "scheduler_url = f\"tcp://{scheduler_ip}:8786\"\n",
    "\n",
    "scheduler_url"
   ]
  },
  {
   "cell_type": "markdown",
   "metadata": {},
   "source": [
    "## Start Dask workers"
   ]
  },
  {
   "cell_type": "code",
   "execution_count": 7,
   "metadata": {},
   "outputs": [],
   "source": [
    "dask_workers = cdsw.launch_workers(\n",
    "  n=10,\n",
    "  cpu=1,\n",
    "  memory=2,\n",
    "  kernel=\"python3\",\n",
    "  code=f\"!dask-worker {scheduler_url} --local-directory _worker_\"\n",
    ")\n",
    "\n",
    "# Wait for the workers to start.\n",
    "time.sleep(10)"
   ]
  },
  {
   "cell_type": "markdown",
   "metadata": {},
   "source": [
    "## Connect Dask client"
   ]
  },
  {
   "cell_type": "code",
   "execution_count": 8,
   "metadata": {},
   "outputs": [],
   "source": [
    "client = Client(scheduler_url)"
   ]
  },
  {
   "cell_type": "code",
   "execution_count": 9,
   "metadata": {},
   "outputs": [
    {
     "data": {
      "text/html": [
       "<table style=\"border: 2px solid white;\">\n",
       "<tr>\n",
       "<td style=\"vertical-align: top; border: 0px solid white\">\n",
       "<h3 style=\"text-align: left;\">Client</h3>\n",
       "<ul style=\"text-align: left; list-style: none; margin: 0; padding: 0;\">\n",
       "  <li><b>Scheduler: </b>tcp://100.66.176.11:8786</li>\n",
       "  <li><b>Dashboard: </b><a href='http://100.66.176.11:8080/status' target='_blank'>http://100.66.176.11:8080/status</a></li>\n",
       "</ul>\n",
       "</td>\n",
       "<td style=\"vertical-align: top; border: 0px solid white\">\n",
       "<h3 style=\"text-align: left;\">Cluster</h3>\n",
       "<ul style=\"text-align: left; list-style:none; margin: 0; padding: 0;\">\n",
       "  <li><b>Workers: </b>10</li>\n",
       "  <li><b>Cores: </b>80</li>\n",
       "  <li><b>Memory: </b>20.00 GB</li>\n",
       "</ul>\n",
       "</td>\n",
       "</tr>\n",
       "</table>"
      ],
      "text/plain": [
       "<Client: 'tcp://100.66.176.11:8786' processes=10 threads=80, memory=20.00 GB>"
      ]
     },
     "execution_count": 9,
     "metadata": {},
     "output_type": "execute_result"
    }
   ],
   "source": [
    "client"
   ]
  },
  {
   "cell_type": "markdown",
   "metadata": {},
   "source": [
    "## Load data"
   ]
  },
  {
   "cell_type": "code",
   "execution_count": 10,
   "metadata": {},
   "outputs": [],
   "source": [
    "digits = load_digits()\n",
    "X_train, X_test, y_train, y_test = train_test_split(digits.data, digits.target, train_size=0.75, test_size=0.25)"
   ]
  },
  {
   "cell_type": "markdown",
   "metadata": {},
   "source": [
    "## Define estimator (using Dask!)"
   ]
  },
  {
   "cell_type": "code",
   "execution_count": 12,
   "metadata": {},
   "outputs": [],
   "source": [
    "estimator = TPOTClassifier(generations=5, population_size=20, use_dask=True)"
   ]
  },
  {
   "cell_type": "markdown",
   "metadata": {},
   "source": [
    "## Fit estimator (using Dask workers!)"
   ]
  },
  {
   "cell_type": "code",
   "execution_count": 13,
   "metadata": {},
   "outputs": [
    {
     "data": {
      "text/plain": [
       "TPOTClassifier(generations=5, population_size=20, use_dask=True)"
      ]
     },
     "execution_count": 13,
     "metadata": {},
     "output_type": "execute_result"
    }
   ],
   "source": [
    "estimator.fit(X_train, y_train)"
   ]
  },
  {
   "cell_type": "code",
   "execution_count": 14,
   "metadata": {},
   "outputs": [
    {
     "data": {
      "text/plain": [
       "array([9, 2, 4, ..., 4, 0, 1])"
      ]
     },
     "execution_count": 14,
     "metadata": {},
     "output_type": "execute_result"
    }
   ],
   "source": [
    "estimator.predict(X_train)"
   ]
  },
  {
   "cell_type": "markdown",
   "metadata": {},
   "source": [
    "## Close workers"
   ]
  },
  {
   "cell_type": "markdown",
   "metadata": {},
   "source": [
    "Stop workers. Stop only those that we started, not all the workers on the cluster, that others may be using."
   ]
  },
  {
   "cell_type": "code",
   "execution_count": 15,
   "metadata": {},
   "outputs": [
    {
     "data": {
      "text/plain": [
       "[<Response [204]>,\n",
       " <Response [204]>,\n",
       " <Response [204]>,\n",
       " <Response [204]>,\n",
       " <Response [204]>,\n",
       " <Response [204]>,\n",
       " <Response [204]>,\n",
       " <Response [204]>,\n",
       " <Response [204]>,\n",
       " <Response [204]>]"
      ]
     },
     "execution_count": 15,
     "metadata": {},
     "output_type": "execute_result"
    }
   ],
   "source": [
    "cdsw.stop_workers(*[worker['id'] for worker in dask_workers])"
   ]
  },
  {
   "cell_type": "markdown",
   "metadata": {},
   "source": [
    "Stop scheduler."
   ]
  },
  {
   "cell_type": "code",
   "execution_count": 16,
   "metadata": {},
   "outputs": [
    {
     "data": {
      "text/plain": [
       "[<Response [204]>]"
      ]
     },
     "execution_count": 16,
     "metadata": {},
     "output_type": "execute_result"
    }
   ],
   "source": [
    "cdsw.stop_workers(*[worker['id'] for worker in dask_scheduler])"
   ]
  },
  {
   "cell_type": "code",
   "execution_count": null,
   "metadata": {},
   "outputs": [],
   "source": []
  }
 ],
 "metadata": {
  "kernelspec": {
   "display_name": "Python 3",
   "language": "python",
   "name": "python3"
  },
  "language_info": {
   "codemirror_mode": {
    "name": "ipython",
    "version": 3
   },
   "file_extension": ".py",
   "mimetype": "text/x-python",
   "name": "python",
   "nbconvert_exporter": "python",
   "pygments_lexer": "ipython3",
   "version": "3.6.9"
  }
 },
 "nbformat": 4,
 "nbformat_minor": 2
}
